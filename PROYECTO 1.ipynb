{
  "nbformat": 4,
  "nbformat_minor": 0,
  "metadata": {
    "colab": {
      "provenance": [],
      "include_colab_link": true
    },
    "kernelspec": {
      "name": "python3",
      "display_name": "Python 3"
    },
    "language_info": {
      "name": "python"
    }
  },
  "cells": [
    {
      "cell_type": "markdown",
      "metadata": {
        "id": "view-in-github",
        "colab_type": "text"
      },
      "source": [
        "<a href=\"https://colab.research.google.com/github/SOLDIERK41R0/SOLDIERK41R0/blob/main/PROYECTO%201.ipynb\" target=\"_parent\"><img src=\"https://colab.research.google.com/assets/colab-badge.svg\" alt=\"Open In Colab\"/></a>"
      ]
    },
    {
      "cell_type": "code",
      "source": [
        "import numpy as np\n",
        "import hashlib\n",
        "\n",
        "# Parámetros para LUOV-7-57-197\n",
        "v = 197  # Variables de vinagre\n",
        "m = 57   # Variables de aceite\n",
        "n = m + v  # Total de variables (vinagre + aceite)\n",
        "r = 7  # Grado del campo de extensión F_2r\n",
        "field_size = 2 ** r  # Tamaño del campo F_2r\n",
        "\n",
        "# Función de hash basada en SHAKE256\n",
        "def hash_function(message, output_size=128):\n",
        "    shake = hashlib.shake_256()\n",
        "    shake.update(message)\n",
        "    return shake.digest(output_size)\n",
        "\n",
        "# Función para generar una matriz cuadrática aleatoria para el mapa público P\n",
        "def generate_random_map(n, m):\n",
        "    return np.random.randint(0, 2, size=(m, n, n), dtype=np.int64)\n",
        "\n",
        "# Algoritmo de Generación de Claves\n",
        "def keygen():\n",
        "    # Semilla privada aleatoria (32 bytes)\n",
        "    private_seed = np.random.bytes(32)\n",
        "\n",
        "    # Generar la semilla pública usando la función de hash\n",
        "    public_seed = hash_function(private_seed, 32)\n",
        "\n",
        "    # Generar la matriz de transformación T\n",
        "    T = np.random.randint(0, 2, size=(v, m), dtype=np.int64)  # Matriz T\n",
        "\n",
        "    # Generar el mapa público P\n",
        "    P = generate_random_map(n, m)\n",
        "\n",
        "    # Clave pública (semilla pública y mapa público P)\n",
        "    public_key = (public_seed, P)\n",
        "    # Clave privada (semilla privada y matriz T)\n",
        "    private_key = (private_seed, T)\n",
        "\n",
        "    return public_key, private_key\n"
      ],
      "metadata": {
        "id": "N2TdyvXNqZQY"
      },
      "execution_count": 2,
      "outputs": []
    },
    {
      "cell_type": "code",
      "source": [
        "# prompt: imprime public_key, private_key\n",
        "\n",
        "public_key, private_key = keygen()\n",
        "print(\"Clave Pública:\", public_key)\n",
        "print(\"Clave Privada:\", private_key)\n"
      ],
      "metadata": {
        "id": "aGGVZhCKq68G",
        "outputId": "41c9908a-2d6d-45ea-a37a-6b49b8cd9f06",
        "colab": {
          "base_uri": "https://localhost:8080/"
        }
      },
      "execution_count": 4,
      "outputs": [
        {
          "output_type": "stream",
          "name": "stdout",
          "text": [
            "Clave Pública: (b'\\x83b\\x8cqV\\x8d\\x97\\x0f\\xc9>\\x1am\\x13hf/\\xd0\\xa3\\x92nS\\x14s\\xf7\\x9e\\xd5s\\x83}\\xcd\\xeab', array([[[0, 1, 1, ..., 0, 1, 1],\n",
            "        [0, 0, 0, ..., 0, 1, 0],\n",
            "        [1, 0, 1, ..., 1, 1, 0],\n",
            "        ...,\n",
            "        [0, 0, 1, ..., 0, 1, 0],\n",
            "        [1, 0, 1, ..., 1, 1, 0],\n",
            "        [1, 0, 1, ..., 0, 1, 0]],\n",
            "\n",
            "       [[0, 0, 1, ..., 0, 0, 0],\n",
            "        [1, 1, 1, ..., 1, 0, 1],\n",
            "        [0, 1, 0, ..., 0, 1, 0],\n",
            "        ...,\n",
            "        [0, 1, 1, ..., 1, 0, 1],\n",
            "        [0, 1, 0, ..., 0, 1, 0],\n",
            "        [1, 0, 1, ..., 0, 0, 0]],\n",
            "\n",
            "       [[0, 1, 0, ..., 0, 0, 0],\n",
            "        [1, 1, 0, ..., 1, 0, 1],\n",
            "        [0, 1, 1, ..., 1, 1, 1],\n",
            "        ...,\n",
            "        [1, 0, 1, ..., 1, 1, 1],\n",
            "        [0, 1, 1, ..., 0, 0, 1],\n",
            "        [0, 0, 1, ..., 1, 1, 1]],\n",
            "\n",
            "       ...,\n",
            "\n",
            "       [[0, 0, 1, ..., 0, 0, 0],\n",
            "        [0, 0, 0, ..., 0, 1, 1],\n",
            "        [1, 0, 1, ..., 0, 0, 1],\n",
            "        ...,\n",
            "        [1, 1, 1, ..., 0, 1, 1],\n",
            "        [0, 1, 1, ..., 0, 0, 0],\n",
            "        [0, 1, 1, ..., 1, 0, 0]],\n",
            "\n",
            "       [[0, 1, 1, ..., 0, 1, 1],\n",
            "        [0, 1, 1, ..., 0, 0, 1],\n",
            "        [0, 1, 0, ..., 1, 0, 1],\n",
            "        ...,\n",
            "        [0, 0, 1, ..., 0, 0, 0],\n",
            "        [0, 0, 0, ..., 1, 0, 0],\n",
            "        [1, 0, 1, ..., 1, 0, 0]],\n",
            "\n",
            "       [[0, 1, 0, ..., 1, 1, 0],\n",
            "        [0, 1, 1, ..., 0, 1, 0],\n",
            "        [1, 0, 0, ..., 1, 0, 0],\n",
            "        ...,\n",
            "        [1, 0, 1, ..., 0, 0, 1],\n",
            "        [0, 1, 0, ..., 1, 0, 0],\n",
            "        [0, 1, 1, ..., 0, 0, 0]]]))\n",
            "Clave Privada: (b'\\xb3\\xcd\\xb2\\xde1\\x8e\\xbdH\\x88\\xccg^\\xd8\\xe5\\xec\\xcdI\\xf0\\xf5\\xc8\\xa9\\xba\\xec^\\xd2\\x96\\xaa{\\xcc\\xf9\\xa0@', array([[0, 1, 0, ..., 0, 0, 1],\n",
            "       [0, 0, 1, ..., 1, 0, 1],\n",
            "       [0, 1, 1, ..., 0, 0, 0],\n",
            "       ...,\n",
            "       [0, 0, 0, ..., 1, 0, 1],\n",
            "       [0, 0, 1, ..., 1, 0, 0],\n",
            "       [1, 0, 1, ..., 0, 0, 0]]))\n"
          ]
        }
      ]
    }
  ]
}